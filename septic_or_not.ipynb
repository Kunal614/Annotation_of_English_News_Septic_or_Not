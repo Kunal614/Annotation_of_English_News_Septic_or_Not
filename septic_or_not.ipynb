{
 "cells": [
  {
   "cell_type": "code",
   "execution_count": 137,
   "metadata": {},
   "outputs": [],
   "source": [
    "import numpy as np\n",
    "import pandas as pd\n",
    "from sklearn.model_selection import train_test_split\n",
    "from keras.models import Sequential\n",
    "from keras.layers import Dense,Conv1D,MaxPooling1D\n",
    "from keras.layers import LSTM,Dropout\n",
    "from keras.layers.embeddings import Embedding\n",
    "from keras.callbacks import ModelCheckpoint\n",
    "from keras.preprocessing.text import Tokenizer\n",
    "from keras.preprocessing.sequence import pad_sequences\n",
    "import warnings\n",
    "warnings.filterwarnings('ignore')\n",
    "from tensorflow.keras.callbacks import TensorBoard\n",
    "import nltk \n",
    "\n",
    "from nltk.tokenize import sent_tokenize, word_tokenize\n",
    "import time\n",
    "from sklearn.feature_extraction.text import CountVectorizer\n",
    "\n",
    "Name = \"Spetic-non-cnn64*x2-{}\".format(int(time.time()))\n",
    "\n",
    "tensorboard = TensorBoard(log_dir='logs/{}'.format(Name))\n"
   ]
  },
  {
   "cell_type": "code",
   "execution_count": 138,
   "metadata": {},
   "outputs": [
    {
     "data": {
      "text/html": [
       "<div>\n",
       "<style scoped>\n",
       "    .dataframe tbody tr th:only-of-type {\n",
       "        vertical-align: middle;\n",
       "    }\n",
       "\n",
       "    .dataframe tbody tr th {\n",
       "        vertical-align: top;\n",
       "    }\n",
       "\n",
       "    .dataframe thead th {\n",
       "        text-align: right;\n",
       "    }\n",
       "</style>\n",
       "<table border=\"1\" class=\"dataframe\">\n",
       "  <thead>\n",
       "    <tr style=\"text-align: right;\">\n",
       "      <th></th>\n",
       "      <th>0</th>\n",
       "      <th>1</th>\n",
       "    </tr>\n",
       "  </thead>\n",
       "  <tbody>\n",
       "    <tr>\n",
       "      <th>0</th>\n",
       "      <td>While the Congress seems to be in revival mode...</td>\n",
       "      <td>1</td>\n",
       "    </tr>\n",
       "    <tr>\n",
       "      <th>1</th>\n",
       "      <td>In Congress, it’s a problem of plenty with too...</td>\n",
       "      <td>1</td>\n",
       "    </tr>\n",
       "    <tr>\n",
       "      <th>2</th>\n",
       "      <td>Though the BJP leadership has been reportedly ...</td>\n",
       "      <td>0</td>\n",
       "    </tr>\n",
       "    <tr>\n",
       "      <th>3</th>\n",
       "      <td>The political predicament also appears to be t...</td>\n",
       "      <td>0</td>\n",
       "    </tr>\n",
       "    <tr>\n",
       "      <th>4</th>\n",
       "      <td>The party leadership, mainly PM Narendra Modi ...</td>\n",
       "      <td>1</td>\n",
       "    </tr>\n",
       "    <tr>\n",
       "      <th>5</th>\n",
       "      <td>The CM had planned to meet the duo when he com...</td>\n",
       "      <td>0</td>\n",
       "    </tr>\n",
       "    <tr>\n",
       "      <th>6</th>\n",
       "      <td>He’s now scheduled to visit New Delhi on Thurs...</td>\n",
       "      <td>0</td>\n",
       "    </tr>\n",
       "    <tr>\n",
       "      <th>7</th>\n",
       "      <td>Speculations are rife in party circles that he...</td>\n",
       "      <td>1</td>\n",
       "    </tr>\n",
       "    <tr>\n",
       "      <th>8</th>\n",
       "      <td>“If he fails to do so, he would face open rebe...</td>\n",
       "      <td>0</td>\n",
       "    </tr>\n",
       "    <tr>\n",
       "      <th>9</th>\n",
       "      <td>“Further delay is likely. Despite threats from...</td>\n",
       "      <td>0</td>\n",
       "    </tr>\n",
       "    <tr>\n",
       "      <th>10</th>\n",
       "      <td>Not all is well in the Congress too. Following...</td>\n",
       "      <td>1</td>\n",
       "    </tr>\n",
       "    <tr>\n",
       "      <th>11</th>\n",
       "      <td>Senior Congress functionaries are particularly...</td>\n",
       "      <td>1</td>\n",
       "    </tr>\n",
       "    <tr>\n",
       "      <th>12</th>\n",
       "      <td>“The party should make a concerted effort to i...</td>\n",
       "      <td>0</td>\n",
       "    </tr>\n",
       "    <tr>\n",
       "      <th>13</th>\n",
       "      <td>Taking serious note of allegations pertaining ...</td>\n",
       "      <td>0</td>\n",
       "    </tr>\n",
       "    <tr>\n",
       "      <th>14</th>\n",
       "      <td>Panchayat raj and mining minister Pedireddy Ra...</td>\n",
       "      <td>0</td>\n",
       "    </tr>\n",
       "    <tr>\n",
       "      <th>15</th>\n",
       "      <td>Sources said the party legislator reportedly s...</td>\n",
       "      <td>0</td>\n",
       "    </tr>\n",
       "    <tr>\n",
       "      <th>16</th>\n",
       "      <td>The legislator is his report said that large q...</td>\n",
       "      <td>0</td>\n",
       "    </tr>\n",
       "    <tr>\n",
       "      <th>17</th>\n",
       "      <td>The legislator claimed that the gravel was ext...</td>\n",
       "      <td>0</td>\n",
       "    </tr>\n",
       "    <tr>\n",
       "      <th>18</th>\n",
       "      <td>“The Mandal Parishad Development Officers (MPD...</td>\n",
       "      <td>0</td>\n",
       "    </tr>\n",
       "    <tr>\n",
       "      <th>19</th>\n",
       "      <td>He submitted also certain documents to substan...</td>\n",
       "      <td>0</td>\n",
       "    </tr>\n",
       "  </tbody>\n",
       "</table>\n",
       "</div>"
      ],
      "text/plain": [
       "                                                    0  1\n",
       "0   While the Congress seems to be in revival mode...  1\n",
       "1   In Congress, it’s a problem of plenty with too...  1\n",
       "2   Though the BJP leadership has been reportedly ...  0\n",
       "3   The political predicament also appears to be t...  0\n",
       "4   The party leadership, mainly PM Narendra Modi ...  1\n",
       "5   The CM had planned to meet the duo when he com...  0\n",
       "6   He’s now scheduled to visit New Delhi on Thurs...  0\n",
       "7   Speculations are rife in party circles that he...  1\n",
       "8   “If he fails to do so, he would face open rebe...  0\n",
       "9   “Further delay is likely. Despite threats from...  0\n",
       "10  Not all is well in the Congress too. Following...  1\n",
       "11  Senior Congress functionaries are particularly...  1\n",
       "12  “The party should make a concerted effort to i...  0\n",
       "13  Taking serious note of allegations pertaining ...  0\n",
       "14  Panchayat raj and mining minister Pedireddy Ra...  0\n",
       "15  Sources said the party legislator reportedly s...  0\n",
       "16  The legislator is his report said that large q...  0\n",
       "17  The legislator claimed that the gravel was ext...  0\n",
       "18  “The Mandal Parishad Development Officers (MPD...  0\n",
       "19  He submitted also certain documents to substan...  0"
      ]
     },
     "execution_count": 138,
     "metadata": {},
     "output_type": "execute_result"
    }
   ],
   "source": [
    "news_data = pd.read_csv(\"News_Dataset.csv\", header=None, skipinitialspace=True ,skiprows=1, encoding='utf-8') \n",
    "# print a summary of the data in news_data\n",
    "\n",
    "news_data[1] = news_data[1].replace(['1-Septic', '0-Pure'], [1, 0])\n",
    "news_data[0] = news_data[0].replace('\\n', '', regex=True).str.strip()\n",
    "news_data.head(20)\n"
   ]
  },
  {
   "cell_type": "code",
   "execution_count": 139,
   "metadata": {},
   "outputs": [
    {
     "name": "stdout",
     "output_type": "stream",
     "text": [
      "(1800,)\n",
      "(1710,) (1710,)\n",
      "['A total of 2,311 people tested positive for the viral disease on Saturday, the 17th consecutive day when more than 2,000 people tested positive.'\n",
      " 'The accused had gone to Himachal by bus to buy charas.'\n",
      " 'Payment through digital mode should be encouraged as much as possible and precautions should be taken while handling cash, it was stated.'\n",
      " ...\n",
      " 'During his interaction with the press here on Wednesday, Mishra said, “They (state government) are the one who claimed that they will not allow anyone to sell the country, but today they are selling all the strategic assets of the country, including oil and gas resources and even Railways. In UP, they are planning to sell JPNIC, which has been built keeping in mind betterment of the people. I protest and appeal to the government not to sell it,” Mishra said.'\n",
      " 'Speaking about his virtual interactions with Chennaiyin FC players ahead of his arrival in Goa, Laszlo said it has been a challenge but they were coping with it positively.'\n",
      " '“I’m not surprised because also in April, when the tournament is normally played, can be like this. I played many years where the tournament was a little bit rainy,” the 11th seed said. “I know it’s going to be tricky. But I’m excited to be here. I look at it in a positive way, the fact that they can still make another Grand Slam happen.”']\n"
     ]
    }
   ],
   "source": [
    "X = news_data[0].values\n",
    "Y = news_data[1].values\n",
    "print(X.shape)\n",
    "x_train ,  x_test ,y_train ,  y_test = train_test_split(X , Y  , test_size = 0.05)\n",
    "print(x_train.shape , y_train.shape)\n",
    "print((x_train))"
   ]
  },
  {
   "cell_type": "code",
   "execution_count": 140,
   "metadata": {},
   "outputs": [
    {
     "name": "stdout",
     "output_type": "stream",
     "text": [
      "['A total of 2,311 people tested positive for the viral disease on Saturday, the 17th consecutive day when more than 2,000 people tested positive.'\n",
      " 'The accused had gone to Himachal by bus to buy charas.'\n",
      " 'Payment through digital mode should be encouraged as much as possible and precautions should be taken while handling cash, it was stated.'\n",
      " ...\n",
      " 'During his interaction with the press here on Wednesday, Mishra said, “They (state government) are the one who claimed that they will not allow anyone to sell the country, but today they are selling all the strategic assets of the country, including oil and gas resources and even Railways. In UP, they are planning to sell JPNIC, which has been built keeping in mind betterment of the people. I protest and appeal to the government not to sell it,” Mishra said.'\n",
      " 'Speaking about his virtual interactions with Chennaiyin FC players ahead of his arrival in Goa, Laszlo said it has been a challenge but they were coping with it positively.'\n",
      " '“I’m not surprised because also in April, when the tournament is normally played, can be like this. I played many years where the tournament was a little bit rainy,” the 11th seed said. “I know it’s going to be tricky. But I’m excited to be here. I look at it in a positive way, the fact that they can still make another Grand Slam happen.”']\n"
     ]
    }
   ],
   "source": [
    "tokenizer = Tokenizer(num_words=None) #adding this parameter can  responsible for setting the size of the vocabulary i.e the most common num_words\n",
    "tokenizer.fit_on_texts(x_train)\n",
    "print(x_train)"
   ]
  },
  {
   "cell_type": "code",
   "execution_count": 141,
   "metadata": {},
   "outputs": [],
   "source": [
    "vocab_size = len(tokenizer.word_index) + 1  \n",
    "\n",
    "data = []\n",
    "punc = '.'\n",
    "for i in x_train:\n",
    "    i = i[:-1]\n",
    "    token = word_tokenize(i)\n",
    "    if punc in token:\n",
    "        for index ,val in enumerate(token):\n",
    "            if punc == val:\n",
    "                token.pop(index) \n",
    "#     x_train = tokenizer.texts_to_sequences(token)           \n",
    "    data.append(token)\n",
    "\n",
    "x_train = tokenizer.texts_to_sequences(data) \n",
    "x_test = tokenizer.texts_to_sequences(x_test)"
   ]
  },
  {
   "cell_type": "code",
   "execution_count": 142,
   "metadata": {},
   "outputs": [
    {
     "name": "stdout",
     "output_type": "stream",
     "text": [
      "[[   6   96    3 ...    0    0    0]\n",
      " [   1  303   29 ...    0    0    0]\n",
      " [3851  158  924 ...    0    0    0]\n",
      " ...\n",
      " [  70   38 7562 ...    0    0    0]\n",
      " [ 783   78   38 ...    0    0    0]\n",
      " [3720   51 6865 ...    0    0    0]]\n",
      "<class 'pandas.core.frame.DataFrame'>\n",
      "RangeIndex: 1800 entries, 0 to 1799\n",
      "Data columns (total 2 columns):\n",
      " #   Column  Non-Null Count  Dtype \n",
      "---  ------  --------------  ----- \n",
      " 0   0       1800 non-null   object\n",
      " 1   1       1800 non-null   int64 \n",
      "dtypes: int64(1), object(1)\n",
      "memory usage: 28.2+ KB\n"
     ]
    }
   ],
   "source": [
    "maxlen = 100\n",
    "x_train = pad_sequences(x_train, padding='post', maxlen=maxlen)\n",
    "x_test = pad_sequences(x_test, padding='post', maxlen=maxlen)\n",
    "print(x_train)\n",
    "\n",
    "news_data.info()"
   ]
  },
  {
   "cell_type": "code",
   "execution_count": 143,
   "metadata": {},
   "outputs": [
    {
     "name": "stdout",
     "output_type": "stream",
     "text": [
      "(1710, 100)\n"
     ]
    }
   ],
   "source": [
    "y_train = np.array(y_train)\n",
    "print(x_train.shape)"
   ]
  },
  {
   "cell_type": "code",
   "execution_count": 144,
   "metadata": {},
   "outputs": [],
   "source": [
    "embedding_dim = 50\n",
    "# embedding_matrix = create_embedding_matrix('glove.6B.50d.txt' ,tokenizer.word_index,  embedding_dim)"
   ]
  },
  {
   "cell_type": "code",
   "execution_count": 155,
   "metadata": {},
   "outputs": [
    {
     "name": "stdout",
     "output_type": "stream",
     "text": [
      "Epoch 1/10\n",
      "171/171 [==============================] - 3s 18ms/step - loss: 0.5294 - accuracy: 0.7942\n",
      "Epoch 2/10\n",
      "171/171 [==============================] - 2s 15ms/step - loss: 0.4666 - accuracy: 0.7942\n",
      "Epoch 3/10\n",
      "171/171 [==============================] - 3s 17ms/step - loss: 0.2917 - accuracy: 0.8655\n",
      "Epoch 4/10\n",
      "171/171 [==============================] - 3s 16ms/step - loss: 0.1178 - accuracy: 0.9614\n",
      "Epoch 5/10\n",
      "171/171 [==============================] - 3s 15ms/step - loss: 0.0792 - accuracy: 0.9702\n",
      "Epoch 6/10\n",
      "171/171 [==============================] - 3s 15ms/step - loss: 0.0668 - accuracy: 0.9754\n",
      "Epoch 7/10\n",
      "171/171 [==============================] - 3s 15ms/step - loss: 0.0638 - accuracy: 0.9743\n",
      "Epoch 8/10\n",
      "171/171 [==============================] - 3s 15ms/step - loss: 0.0584 - accuracy: 0.9719\n",
      "Epoch 9/10\n",
      "171/171 [==============================] - 3s 17ms/step - loss: 0.0535 - accuracy: 0.9760\n",
      "Epoch 10/10\n",
      "171/171 [==============================] - 3s 15ms/step - loss: 0.0533 - accuracy: 0.9760\n"
     ]
    },
    {
     "data": {
      "text/plain": [
       "<tensorflow.python.keras.callbacks.History at 0x7f7839b90050>"
      ]
     },
     "execution_count": 155,
     "metadata": {},
     "output_type": "execute_result"
    }
   ],
   "source": [
    "from keras import layers\n",
    "\n",
    "model = Sequential()\n",
    "\n",
    "model.add(layers.Embedding(vocab_size, embedding_dim, input_length=maxlen))\n",
    "model.add(layers.Conv1D(32, 5, activation='relu'))\n",
    "model.add(layers.GlobalMaxPooling1D())\n",
    "model.add(layers.Dense(10, activation='relu'))\n",
    "model.add(layers.Dense(1, activation='sigmoid'))\n",
    "model.compile(optimizer='adam',\n",
    "              loss='binary_crossentropy',\n",
    "              metrics=['accuracy'])\n",
    "model.fit(x_train, y_train,epochs=10,batch_size=10)"
   ]
  },
  {
   "cell_type": "code",
   "execution_count": 157,
   "metadata": {},
   "outputs": [
    {
     "name": "stdout",
     "output_type": "stream",
     "text": [
      "3/3 [==============================] - 0s 12ms/step - loss: 0.3634 - accuracy: 0.8556\n",
      "[0.36337602138519287, 0.855555534362793]\n"
     ]
    }
   ],
   "source": [
    "acc = model.evaluate(x_test  , y_test)\n",
    "print(acc) \n"
   ]
  },
  {
   "cell_type": "code",
   "execution_count": 158,
   "metadata": {},
   "outputs": [
    {
     "name": "stdout",
     "output_type": "stream",
     "text": [
      "[0 0 0 0 0 0 0 0 0 0 0 0 0 0 0 0 1 1 0 1 0 1 0 1 0 0 0 0 0 1 0 0 0 0 0 1 0\n",
      " 0 0 0 0 0 0 1 0 0 0 0 1 1 1 0 0 0 0 0 0 0 0 0 0 0 1 0 0 0 0 0 0 1 0 0 0 0\n",
      " 0 0 1 0 0 0 0 0 0 1 0 1 0 0 1 0]\n"
     ]
    }
   ],
   "source": [
    "print(y_test)"
   ]
  },
  {
   "cell_type": "code",
   "execution_count": 159,
   "metadata": {},
   "outputs": [
    {
     "name": "stdout",
     "output_type": "stream",
     "text": [
      "1/1 [==============================] - 0s 1ms/step - loss: 1.2072 - accuracy: 0.5000\n",
      "0\n",
      "0\n"
     ]
    }
   ],
   "source": [
    "def mapper(a):\n",
    "    a = tokenizer.texts_to_sequences(a)\n",
    "    return pad_sequences(a, padding='post', maxlen=maxlen)\n",
    "\n",
    "\n",
    "x_eval = mapper(['he said, \"the world goes round and round and round\"',\n",
    "        'Even Bangladesh leader Khaleda Zia has said the terrorists are being trained in India and sent to Bangladesh to create disturbance'])\n",
    "\n",
    "y_eval = np.array([0, 1])\n",
    "model.evaluate(x_eval, y_eval)\n",
    "\n",
    "for i in model.predict(x_eval):\n",
    "    print(round(i[0]))"
   ]
  },
  {
   "cell_type": "code",
   "execution_count": 160,
   "metadata": {},
   "outputs": [],
   "source": [
    "y_pred = model.predict(x_test)\n",
    "y_pred = [round(i[0]) for i in y_pred]"
   ]
  },
  {
   "cell_type": "code",
   "execution_count": 164,
   "metadata": {},
   "outputs": [
    {
     "name": "stdout",
     "output_type": "stream",
     "text": [
      "[[72  1]\n",
      " [12  5]]\n"
     ]
    }
   ],
   "source": [
    "from sklearn.metrics import confusion_matrix\n",
    "y = confusion_matrix(y_test, y_pred)\n",
    "print(y)"
   ]
  },
  {
   "cell_type": "code",
   "execution_count": 163,
   "metadata": {},
   "outputs": [
    {
     "data": {
      "text/plain": [
       "<matplotlib.axes._subplots.AxesSubplot at 0x7f788c6036d0>"
      ]
     },
     "execution_count": 163,
     "metadata": {},
     "output_type": "execute_result"
    },
    {
     "data": {
      "image/png": "[encoded data removed]",
      "text/plain": [
       "<Figure size 432x288 with 2 Axes>"
      ]
     },
     "metadata": {
      "needs_background": "light"
     },
     "output_type": "display_data"
    }
   ],
   "source": [
    "import seaborn as sns\n",
    "\n",
    "sns.heatmap(y)"
   ]
  },
  {
   "cell_type": "code",
   "execution_count": 152,
   "metadata": {},
   "outputs": [
    {
     "name": "stdout",
     "output_type": "stream",
     "text": [
      "create_csv.py      glove.6B.50d.txt  mergecsv.py       \u001b[0m\u001b[01;34mseptic.model\u001b[0m/\r\n",
      "current.csv        kunal1.csv        News_data.csv     septic_or_not.ipynb\r\n",
      "glove.6B.100d.txt  kunal.csv         News_Dataset.csv  \u001b[01;34mseptic.save\u001b[0m/\r\n",
      "glove.6B.200d.txt  kunal.txt         para.txt\r\n",
      "glove.6B.300d.txt  \u001b[01;34mlogs\u001b[0m/             senten_maker.py\r\n"
     ]
    }
   ],
   "source": []
  },
  {
   "cell_type": "code",
   "execution_count": null,
   "metadata": {},
   "outputs": [],
   "source": []
  }
 ],
 "metadata": {
  "kernelspec": {
   "display_name": "Python 3",
   "language": "python",
   "name": "python3"
  },
  "language_info": {
   "codemirror_mode": {
    "name": "ipython",
    "version": 3
   },
   "file_extension": ".py",
   "mimetype": "text/x-python",
   "name": "python",
   "nbconvert_exporter": "python",
   "pygments_lexer": "ipython3",
   "version": "3.7.7"
  }
 },
 "nbformat": 4,
 "nbformat_minor": 4
}
